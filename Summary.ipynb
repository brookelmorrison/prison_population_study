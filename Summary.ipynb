{
 "cells": [
  {
   "cell_type": "markdown",
   "metadata": {},
   "source": [
    "# Prison Population Study"
   ]
  },
  {
   "cell_type": "markdown",
   "metadata": {},
   "source": [
    "## Background"
   ]
  },
  {
   "cell_type": "markdown",
   "metadata": {},
   "source": [
    "In 2020, the Illinois Sheriffs' Association filed a lawsuit against the State of Illinois and the Illinois Department of Corrections (IDOC) asking for an injuction forcing the state to allow transfers of inmates from County jails to Illinois prisons after the Governor, by Executive Order, ceased allowing prisoners to be transferred. The lawsuit, while originally successful, was overturned upon appeal by the state of Illinois. Meanwhile, the Governor issued Executive Order 50, which reinstated transfers subject to certain guidelines. However, the Appellate Court stated that the issue could be reviewed if the Executive Order could be shown to be in bad faith.\n",
    "\n",
    "In early 2021, the jail in Fayette County became full under COVID-19 guidlines. This has forced the County to release prisoners and prioritze inmates. This has resulted in several defendants being released against the wishes of law enforcement and have committed other crimes while released.\n",
    "\n",
    "Fayette County law enforcement has requested an analysis to review whether or not these policies is resulting in disparate impact for any protected or unprotected class and to review whether or not these policies might have been made in bad faith."
   ]
  },
  {
   "cell_type": "markdown",
   "metadata": {},
   "source": [
    "## Methodology"
   ]
  },
  {
   "cell_type": "markdown",
   "metadata": {},
   "source": [
    "In order to review the effect these policies have had on the population of the prisons, I reviewed several public data sources.\n",
    "\n",
    "Prison population spreadsheets were found at https://www2.illinois.gov/idoc/reportsandstatistics/Pages/Prison-Population-Data-Sets.aspx. These spreadsheets are completed every quarter. \n",
    "\n",
    "Inmates in Illinois are sent to one of four prisons for processing before being assigned to a prison. Those facilities are Stateville, Mendard, Graham, and Logan. According to law enforcement, in the past, processing at those facilities takes about 30 days. The IDOC releases daily \"Intake\" reports showing the number of prisoners that are accepted into a facility each day. Unfortunately, those reports are only available until the next one is posted, usually daily on weekdays. After finding the difficulty of reaccessing this information, I began to save these reports for later reference. These intake reports typically show Graham, Mendard, and Logan \"at capacity\" and Stateville accepting a small number of offenders from typically northern counties.\n",
    "\n",
    "I calculated the relative percentages of the prison population from each quarterly report for both the total population and offenders whose \"Current Admission Date\" was within the quarter for that report. I calculated the figures based on the following factors:\n",
    "\n",
    "- Sentencing County\n",
    "- Race\n",
    "- Sex\n",
    "- Offense\n",
    "- COVID Region\n",
    "- Parent Institution\n",
    "\n",
    "I also calculated the hard number of the population for such items as COVID Region, Sentencing County, and Parent Institution in order to calculate the change over time.\n"
   ]
  },
  {
   "cell_type": "markdown",
   "metadata": {},
   "source": [
    "## Results"
   ]
  },
  {
   "cell_type": "markdown",
   "metadata": {},
   "source": [
    "In a high-level comparison, I found no evidence of a disparate impact against any of the classes in question. In fact, the proportion of African Americans went down slightly and the proportion of incarcarated individuals from non-Cook counties rose slightly from December 2019 to December 2020. \n",
    "\n",
    "However, I did note a trend of decreasing populations across the prison system. With few exceptions, the population of prisons; including the processing centers has gone down, even though the \"Intake\" reports show the facilties at capacity. This leads to the following questions:\n",
    "- What is \"capacity\" for these facilities? The capacity for the facilities listed online is much higher than the populations at these facilities.\n",
    "- With very few to no inmates being accepted into the facilities, it would be expected that eventually, even if the individuals being \"processed\" are held out of the statistics, the processing facilities would be emptied out. Is this not happening? Is IDOC not moving people out of the processing facilities and into prison popultion? If not, why?\n",
    "\n",
    "Additionally, a review of news articles points to a possibility of bad faith. Governor Pritzker has make no secret about his focus on criminal justice reform. In January 2020, Governor Pritzker was quoted as saying \"we’re going to move forward with the mission of reducing our prison population\" (Source: https://thesouthern.com/news/local/govt-and-politics/pritzker-puts-criminal-justice-reforms-atop-2020-agenda-for-illinois/article_897794c1-9ab8-5894-b7bc-979c45b08ead.html, accessed 3/26/2021). As far back as 2017, Pritzker's campaign for Governor made note of his push for criminal justice reform.\n",
    "\n",
    "In fact, in 2021, he made mention of a 25% reduction in the prison population (Source: https://www.wqad.com/article/news/crime/pritzker-signs-illinois-criminal-justice-reform-bill/526-f6859738-ead5-4d7f-a233-35a3357d9a2a, accessed 3/26/2021). However, this reduction in the prison population was made possible by commuting sentences and early release of prisoners as a result of COVID, as well as not accepting prisoners into the IDOC system. Therefore, this figure is not correct. \n",
    "\n",
    "However, the discussion as to whether or not the policy decisions are in \"bad faith\" or not is not a matter that statistical analysis can solve. Rather, it is a legal and political issue that must be reviewed by the appropriate parties.\n",
    "\n",
    "A visual examination of the data also shows interesting trends in where incarcerated individuals are now being housed; however, I was unable to find evidence of any legal issues. It is interesting to note that, it might be possible to extrapolate which prisons the administration has targeted for closure; however, that is also outside of the scope of this analysis.\n"
   ]
  },
  {
   "cell_type": "code",
   "execution_count": null,
   "metadata": {},
   "outputs": [],
   "source": []
  }
 ],
 "metadata": {
  "kernelspec": {
   "display_name": "Python 3",
   "language": "python",
   "name": "python3"
  },
  "language_info": {
   "codemirror_mode": {
    "name": "ipython",
    "version": 3
   },
   "file_extension": ".py",
   "mimetype": "text/x-python",
   "name": "python",
   "nbconvert_exporter": "python",
   "pygments_lexer": "ipython3",
   "version": "3.7.4"
  }
 },
 "nbformat": 4,
 "nbformat_minor": 2
}
